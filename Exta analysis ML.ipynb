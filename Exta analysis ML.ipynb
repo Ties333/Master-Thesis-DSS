{
 "cells": [
  {
   "cell_type": "markdown",
   "metadata": {},
   "source": [
    "# Machine Learning Analyses\n",
    "### Import Libraries"
   ]
  },
  {
   "cell_type": "code",
   "execution_count": 1,
   "metadata": {},
   "outputs": [],
   "source": [
    "# Basics\n",
    "import numpy as np\n",
    "import pandas as pd\n",
    "from collections import Counter\n",
    "# Preprocessing\n",
    "from sklearn.preprocessing import MinMaxScaler, StandardScaler\n",
    "from sklearn.model_selection import train_test_split\n",
    "# Models\n",
    "from sklearn.tree import DecisionTreeClassifier\n",
    "from sklearn.svm import SVC\n",
    "from sklearn.neural_network import MLPClassifier\n",
    "from sklearn.neighbors import KNeighborsClassifier\n",
    "from sklearn.ensemble import RandomForestClassifier, AdaBoostClassifier\n",
    "from sklearn.naive_bayes import GaussianNB\n",
    "# Model evaluation\n",
    "from sklearn.model_selection import cross_val_score\n",
    "from sklearn.metrics import accuracy_score, confusion_matrix"
   ]
  },
  {
   "cell_type": "markdown",
   "metadata": {},
   "source": [
    "### Import Data"
   ]
  },
  {
   "cell_type": "code",
   "execution_count": 2,
   "metadata": {},
   "outputs": [],
   "source": [
    "mimicry = pd.read_csv(\"data/Ratings/mimicry.csv\").iloc[0::,1::]\n",
    "coach = pd.read_csv(\"data/Ratings/coach.csv\")\n",
    "prob_inv = pd.read_csv(\"data/Ratings/prob_inv.csv\")\n",
    "gaze = pd.DataFrame(pd.read_csv(\"data/Ratings/gaze.csv\").iloc[0::,1::].values.flatten(), columns = [\"gaze\"]) "
   ]
  },
  {
   "cell_type": "markdown",
   "metadata": {},
   "source": [
    "### Data Manipulating"
   ]
  },
  {
   "cell_type": "code",
   "execution_count": 3,
   "metadata": {},
   "outputs": [],
   "source": [
    "## Settings\n",
    "y_choice = 1            # Variable to predict: 1 = prob_inv; 2 = coach\n",
    "n_categories = 2        # prob_inv [2 or 3]; coach [2 or 3 or 4]\n",
    "\n",
    "# y setting\n",
    "if y_choice == 1:\n",
    "    if n_categories == 2:\n",
    "        prob_inv[\"PI_cat\"] = pd.cut(prob_inv.prob_inv, bins=[-1,30,100], labels = [\"low (0-30)\", \"high (30-100)\"])\n",
    "        y = prob_inv.PI_cat\n",
    "    elif n_categories == 3:\n",
    "        prob_inv[\"PI_cat\"] = pd.cut(prob_inv.prob_inv, bins=[-1,10,45,100], labels = [\"low (0-10)\", \"middle (10-45)\", \"high (45-100)\"])\n",
    "        y = prob_inv.PI_cat\n",
    "    else:\n",
    "        print(\"No accaptable settings. See notes behind the settings.\")\n",
    "elif y_choice == 2:\n",
    "    if n_categories == 2:\n",
    "        coach[\"coach_cat\"] = pd.cut(coach.coach, bins=[2,3.556,6], labels = [\"low\", \"high\"])\n",
    "        y = coach.coach_cat\n",
    "    elif n_categories == 3:\n",
    "        coach[\"coach_cat\"] = pd.cut(coach.coach, bins=[2,3.445,3.778,6], labels = [\"low\", \"middle\", \"high\"])\n",
    "        y = coach.coach_cat\n",
    "    elif n_categories == 4:\n",
    "        coach[\"coach_cat\"] = pd.cut(coach.coach, bins=[2,3.334,3.556,3.889,6], labels = [\"low\", \"middle low\", \"middle high\", \"high\"])\n",
    "        y = coach.coach_cat\n",
    "    else:\n",
    "        print(\"No accaptable settings. See notes behind the settings.\")\n",
    "else:\n",
    "    print(\"No accaptable settings. See notes behind the settings.\")"
   ]
  },
  {
   "cell_type": "code",
   "execution_count": 4,
   "metadata": {},
   "outputs": [
    {
     "data": {
      "text/plain": [
       "Counter({'high (30-100)': 33, 'low (0-30)': 42})"
      ]
     },
     "execution_count": 4,
     "metadata": {},
     "output_type": "execute_result"
    }
   ],
   "source": [
    "# Quick test to check if y is recoded correctly.\n",
    "Counter(y)"
   ]
  },
  {
   "cell_type": "code",
   "execution_count": 5,
   "metadata": {},
   "outputs": [],
   "source": [
    "## Settings\n",
    "use_gaze = 1                   # Use gaze proportion gaze in predictor dataframe. 0 = no; 1 = yes\n",
    "scaler_to_use = 1              # Which Scaler to use. 1 = MinMaxScaler(); 2 = StandardScaler()\n",
    "\n",
    "# Include gaze setting\n",
    "if use_gaze == 1:\n",
    "    X = mimicry\n",
    "    X[\"gaze\"] = gaze\n",
    "elif use_gaze == 0:\n",
    "    X = mimicry\n",
    "elif use_gaze != 0 & use_gaze != 1:\n",
    "    print(\"No accaptable gaze settings. See notes behind the settings.\")\n",
    "# Scaler setting\n",
    "if scaler_to_use == 1:\n",
    "    scaler = MinMaxScaler()\n",
    "elif scaler_to_use == 2:\n",
    "    scaler = StandardScaler()\n",
    "elif scaler_to_use != 1 & scaler_to_use != 2:\n",
    "    print(\"No accaptable scaler settings. See notes behind the setting.\")\n",
    "\n",
    "X = scaler.fit_transform(X)"
   ]
  },
  {
   "cell_type": "code",
   "execution_count": 6,
   "metadata": {},
   "outputs": [],
   "source": [
    "# Split X and encoded_y\n",
    "X_train, X_test, y_train, y_test = train_test_split(X, y, test_size = 0.2, random_state = 333)"
   ]
  },
  {
   "cell_type": "markdown",
   "metadata": {},
   "source": [
    "### Create Models and set parameters"
   ]
  },
  {
   "cell_type": "code",
   "execution_count": 7,
   "metadata": {},
   "outputs": [],
   "source": [
    "# Create models and add to list.\n",
    "model1 = DecisionTreeClassifier(random_state = 333)\n",
    "model2 = RandomForestClassifier(random_state = 333)\n",
    "model3 = KNeighborsClassifier(n_neighbors = 4)\n",
    "model4 = SVC(kernel = 'poly', random_state = 333)\n",
    "model5 = GaussianNB()\n",
    "model6 = MLPClassifier(random_state = 333, hidden_layer_sizes = [100,200], max_iter = 1500)\n",
    "\n",
    "classifiers = [model1, model2, model3, model4, model5, model6]\n",
    "classifiers_names = [\"Decision Tree\", \"Random Forest\", \"KNN\", \"SVM\", \"Gaussian Naive Bayes\", \"MLP\"]"
   ]
  },
  {
   "cell_type": "code",
   "execution_count": 8,
   "metadata": {},
   "outputs": [
    {
     "name": "stdout",
     "output_type": "stream",
     "text": [
      "model \t \t Average Acc. \t Max. Acc.\n",
      "Decision Tree \t 0.4666666666666667 \t 0.5333333333333333\n",
      "Random Forest \t 0.55 \t 0.6666666666666666\n",
      "KNN \t 0.5833333333333334 \t 0.6666666666666666\n",
      "SVM \t 0.5833333333333333 \t 0.6666666666666666\n",
      "Gaussian Naive Bayes \t 0.5 \t 0.6\n",
      "MLP \t 0.5499999999999999 \t 0.7333333333333333\n"
     ]
    }
   ],
   "source": [
    "# Use cross-validation on the train set to assess best parameters .\n",
    "print(\"model\", \"\\t\", \"\\t\", \"Average Acc.\", \"\\t\", \"Max. Acc.\")\n",
    "for i in range(len(classifiers)):\n",
    "    clf = classifiers[i]\n",
    "    scores = cross_val_score(clf, X_train, y_train, cv = 4)\n",
    "    print(classifiers_names[i], \"\\t\", scores.mean(), \"\\t\", scores.max())"
   ]
  },
  {
   "cell_type": "code",
   "execution_count": 9,
   "metadata": {},
   "outputs": [
    {
     "name": "stdout",
     "output_type": "stream",
     "text": [
      "Decision Tree \t 0.3333333333333333\n",
      "[[4 5]\n",
      " [5 1]]\n",
      "Random Forest \t 0.4666666666666667\n",
      "[[4 5]\n",
      " [3 3]]\n",
      "KNN \t 0.5333333333333333\n",
      "[[7 2]\n",
      " [5 1]]\n",
      "SVM \t 0.6\n",
      "[[5 4]\n",
      " [2 4]]\n",
      "Gaussian Naive Bayes \t 0.6666666666666666\n",
      "[[6 3]\n",
      " [2 4]]\n",
      "MLP \t 0.6\n",
      "[[5 4]\n",
      " [2 4]]\n"
     ]
    }
   ],
   "source": [
    "# Train models on the full train set and assess performance on test set. Also printing confusion matrix to check for class imbalance in prediction.\n",
    "for i in range(len(classifiers)):\n",
    "    clf = classifiers[i]\n",
    "    clf.fit(X_train, y_train)\n",
    "    y_pred = clf.predict(X_test)\n",
    "    acc = clf.score(X_test, y_test)\n",
    "    print(classifiers_names[i], \"\\t\", acc)\n",
    "    cm = confusion_matrix(y_test, y_pred)\n",
    "    print(cm)"
   ]
  }
 ],
 "metadata": {
  "kernelspec": {
   "display_name": "Python 3",
   "language": "python",
   "name": "python3"
  },
  "language_info": {
   "codemirror_mode": {
    "name": "ipython",
    "version": 3
   },
   "file_extension": ".py",
   "mimetype": "text/x-python",
   "name": "python",
   "nbconvert_exporter": "python",
   "pygments_lexer": "ipython3",
   "version": "3.7.7"
  }
 },
 "nbformat": 4,
 "nbformat_minor": 4
}
